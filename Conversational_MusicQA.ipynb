{
  "nbformat": 4,
  "nbformat_minor": 0,
  "metadata": {
    "colab": {
      "provenance": [],
      "authorship_tag": "ABX9TyPH5cO1/wZ3wOxzlbiW0yKt",
      "include_colab_link": true
    },
    "kernelspec": {
      "name": "python3",
      "display_name": "Python 3"
    },
    "language_info": {
      "name": "python"
    }
  },
  "cells": [
    {
      "cell_type": "markdown",
      "metadata": {
        "id": "view-in-github",
        "colab_type": "text"
      },
      "source": [
        "<a href=\"https://colab.research.google.com/github/DimosAndronoudis/Music_ChitChat/blob/main/Conversational_MusicQA.ipynb\" target=\"_parent\"><img src=\"https://colab.research.google.com/assets/colab-badge.svg\" alt=\"Open In Colab\"/></a>"
      ]
    },
    {
      "cell_type": "code",
      "execution_count": null,
      "metadata": {
        "id": "ytF4IKWJTlYi"
      },
      "outputs": [],
      "source": [
        "!pip install transformers datasets torch pandas --quiet\n",
        "\n",
        "from transformers import AutoTokenizer, AutoModelForCausalLM, Trainer, TrainingArguments, DataCollatorForLanguageModeling\n",
        "from datasets import Dataset\n",
        "import pandas as pd\n",
        "import torch"
      ]
    },
    {
      "cell_type": "code",
      "source": [
        "model_name = \"microsoft/phi-1_5\"\n",
        "tokenizer = AutoTokenizer.from_pretrained(model_name)\n",
        "model = AutoModelForCausalLM.from_pretrained(model_name)\n",
        "\n",
        "\n",
        "DATA_PATH = \"music_qa_dataset.csv\"  # Replace with your actual path\n",
        "music_df = pd.read_csv(DATA_PATH)\n",
        "\n",
        "\n",
        "split_index = int(len(music_df) * 0.9)\n",
        "train_df = music_df.iloc[:split_index]\n",
        "val_df = music_df.iloc[split_index:]\n",
        "\n",
        "\n",
        "train_dataset = Dataset.from_pandas(train_df.reset_index(drop=True))\n",
        "val_dataset = Dataset.from_pandas(val_df.reset_index(drop=True))"
      ],
      "metadata": {
        "id": "ruOsnzk_UZ9P"
      },
      "execution_count": null,
      "outputs": []
    },
    {
      "cell_type": "code",
      "source": [
        "\n",
        "def tokenize_function(example):\n",
        "    return tokenizer(example[\"text\"], truncation=True, padding=\"max_length\", max_length=128)\n",
        "\n",
        "train_dataset = train_dataset.map(tokenize_function, batched=False)\n",
        "val_dataset = val_dataset.map(tokenize_function, batched=False)\n",
        "\n",
        "\n",
        "data_collator = DataCollatorForLanguageModeling(tokenizer=tokenizer, mlm=False)\n",
        "\n",
        "\n",
        "training_args = TrainingArguments(\n",
        "    output_dir=\"./results\",\n",
        "    evaluation_strategy=\"epoch\",\n",
        "    per_device_train_batch_size=2,\n",
        "    per_device_eval_batch_size=2,\n",
        "    num_train_epochs=3,\n",
        "    weight_decay=0.01,\n",
        "    logging_steps=10,\n",
        "    save_total_limit=1,\n",
        "    save_strategy=\"epoch\",\n",
        "    report_to=\"none\",\n",
        "    disable_tqdm=True\n",
        ")\n",
        "\n",
        "\n",
        "trainer = Trainer(\n",
        "    model=model,\n",
        "    args=training_args,\n",
        "    train_dataset=train_dataset,\n",
        "    eval_dataset=val_dataset,\n",
        "    tokenizer=tokenizer,\n",
        "    data_collator=data_collator\n",
        ")"
      ],
      "metadata": {
        "id": "0WyCTYcoUZlC"
      },
      "execution_count": null,
      "outputs": []
    },
    {
      "cell_type": "code",
      "source": [
        "# Train\n",
        "print(\"\\n📚 Fine-tuning Phi-1.5 on external music knowledge dataset...\")\n",
        "trainer.train()\n",
        "\n",
        "# Save\n",
        "model.save_pretrained(\"./phi_finetuned\")\n",
        "tokenizer.save_pretrained(\"./phi_finetuned\")\n",
        "\n",
        "# Load\n",
        "chat_tokenizer = AutoTokenizer.from_pretrained(\"./phi_finetuned\")\n",
        "chat_model = AutoModelForCausalLM.from_pretrained(\"./phi_finetuned\")\n"
      ],
      "metadata": {
        "id": "B05L_El6UZea"
      },
      "execution_count": null,
      "outputs": []
    },
    {
      "cell_type": "code",
      "source": [
        "\n",
        "def chat():\n",
        "    print(\"\\n Music bot is ready. Type 'exit' to stop.\")\n",
        "    while True:\n",
        "        prompt = input(\"\\nYou: \")\n",
        "        if prompt.lower() == \"exit\":\n",
        "            print(\" Goodbye!\")\n",
        "            break\n",
        "        input_ids = chat_tokenizer.encode(prompt, return_tensors=\"pt\")\n",
        "        output = chat_model.generate(input_ids, max_length=200, do_sample=True, temperature=0.7)\n",
        "        response = chat_tokenizer.decode(output[0], skip_special_tokens=True)\n",
        "        print(\"Bot:\", response)\n",
        "\n",
        "print(\"\\n Training complete. Run chat() to start chatting about music!\")"
      ],
      "metadata": {
        "id": "Qn_GvHHGUZWz"
      },
      "execution_count": null,
      "outputs": []
    }
  ]
}